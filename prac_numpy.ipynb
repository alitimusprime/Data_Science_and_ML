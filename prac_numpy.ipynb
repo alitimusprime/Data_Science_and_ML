{
 "cells": [
  {
   "cell_type": "code",
   "execution_count": 9,
   "id": "39d75492-6800-448d-9e99-c52a3f7c9af4",
   "metadata": {},
   "outputs": [],
   "source": [
    "import numpy as np\n"
   ]
  },
  {
   "cell_type": "code",
   "execution_count": 11,
   "id": "2f77c154-7690-4891-8445-c8fa71ede58a",
   "metadata": {},
   "outputs": [
    {
     "name": "stdout",
     "output_type": "stream",
     "text": [
      "Before converting list into numpy array.\n",
      "<class 'list'>\n",
      "After converting list into numpy array.\n"
     ]
    },
    {
     "data": {
      "text/plain": [
       "numpy.ndarray"
      ]
     },
     "execution_count": 11,
     "metadata": {},
     "output_type": "execute_result"
    }
   ],
   "source": [
    "list1 = [1,2,3,4,5]\n",
    "print (\"Before converting list into numpy array.\")\n",
    "\n",
    "print(type(list1))\n",
    "arr1 = np.array(list1)\n",
    "\n",
    "print (\"After converting list into numpy array.\")\n",
    "type(arr1)"
   ]
  },
  {
   "cell_type": "code",
   "execution_count": 23,
   "id": "3bf45b07-ffca-4330-bf69-60dc2f5eeb92",
   "metadata": {},
   "outputs": [
    {
     "data": {
      "text/plain": [
       "array([ 2,  4,  6,  8, 10])"
      ]
     },
     "execution_count": 23,
     "metadata": {},
     "output_type": "execute_result"
    }
   ],
   "source": [
    "#in lists we can not do this type of operation, we will need to access indexes separately with a loop. In numpy arrays we can do both.\n",
    "arr1*2"
   ]
  },
  {
   "cell_type": "code",
   "execution_count": 21,
   "id": "4851ebce-ad1a-4d59-809b-71a7a5a2f44f",
   "metadata": {},
   "outputs": [
    {
     "name": "stdout",
     "output_type": "stream",
     "text": [
      "[False False  True  True  True]\n"
     ]
    }
   ],
   "source": [
    "print(arr1 > 2)"
   ]
  },
  {
   "cell_type": "code",
   "execution_count": 33,
   "id": "cac6eb82-6046-4d1f-a476-d642e9fd4f14",
   "metadata": {},
   "outputs": [],
   "source": [
    "list2d = [[1,2], [3,4]]\n",
    "arr2d = np.array(list2d)"
   ]
  },
  {
   "cell_type": "code",
   "execution_count": 37,
   "id": "0a9bbee5-d5f4-4836-8ce3-2a2a3054f862",
   "metadata": {},
   "outputs": [
    {
     "name": "stdout",
     "output_type": "stream",
     "text": [
      "[[1 2]\n",
      " [3 4]]\n"
     ]
    }
   ],
   "source": [
    "print(arr2d)"
   ]
  },
  {
   "cell_type": "code",
   "execution_count": 39,
   "id": "e5f904b6-7339-4142-83c8-3f5bc601d332",
   "metadata": {},
   "outputs": [],
   "source": [
    "array2d = np.arange(4).reshape(2,2)"
   ]
  },
  {
   "cell_type": "code",
   "execution_count": 55,
   "id": "cc3aaf01-e43c-4770-9742-397737d3e60c",
   "metadata": {},
   "outputs": [
    {
     "name": "stdin",
     "output_type": "stream",
     "text": [
      "0 1\n",
      "1 2\n",
      "2 3\n",
      "3 4\n"
     ]
    },
    {
     "name": "stdout",
     "output_type": "stream",
     "text": [
      "0\n",
      "\t\n",
      "1\n",
      "\t\n",
      "\n",
      "\n",
      "2\n",
      "\t\n",
      "3\n",
      "\t\n",
      "\n",
      "\n"
     ]
    }
   ],
   "source": [
    "for i in range(2):\n",
    "    for j in range(2):\n",
    "        input(array2d[i][j])\n",
    "\n",
    "for i in range(2):\n",
    "    for j in range(2):\n",
    "        print(array2d[i][j])\n",
    "        print(\"\\t\")\n",
    "    print (\"\\n\")\n"
   ]
  },
  {
   "cell_type": "code",
   "execution_count": 97,
   "id": "2eb912f5-a59e-4258-8f2e-7ecf9b9dbed9",
   "metadata": {},
   "outputs": [
    {
     "name": "stdout",
     "output_type": "stream",
     "text": [
      "*\n",
      "*\n",
      "\n",
      "\n",
      "*\n",
      "*\n",
      "\n",
      "\n"
     ]
    }
   ],
   "source": [
    "for i in range(2):\n",
    "    for j in range(2):\n",
    "        print (\"*\")\n",
    "    print (\"\\n\")\n",
    "    \n",
    "    "
   ]
  },
  {
   "cell_type": "code",
   "execution_count": 105,
   "id": "6da08127-16f5-4ae6-bce1-85e9dbfb8601",
   "metadata": {},
   "outputs": [
    {
     "data": {
      "text/plain": [
       "array([[ 0,  1,  2,  3,  4,  5,  6,  7,  8],\n",
       "       [ 9, 10, 11, 12, 13, 14, 15, 16, 17],\n",
       "       [18, 19, 20, 21, 22, 23, 24, 25, 26],\n",
       "       [27, 28, 29, 30, 31, 32, 33, 34, 35]])"
      ]
     },
     "execution_count": 105,
     "metadata": {},
     "output_type": "execute_result"
    }
   ],
   "source": [
    "array2_2d = np.arange(36).reshape(4,9)\n",
    "array2_2d"
   ]
  },
  {
   "cell_type": "code",
   "execution_count": 137,
   "id": "4fd75cbd-aa84-4398-b920-c5afaa29fac2",
   "metadata": {},
   "outputs": [
    {
     "data": {
      "text/plain": [
       "array([[ 2,  3],\n",
       "       [20, 21]])"
      ]
     },
     "execution_count": 137,
     "metadata": {},
     "output_type": "execute_result"
    }
   ],
   "source": [
    "array2_2d[::2,2:4]"
   ]
  },
  {
   "cell_type": "code",
   "execution_count": 139,
   "id": "7e5b8d45-735f-453d-86ac-e0a068ee2656",
   "metadata": {},
   "outputs": [
    {
     "data": {
      "text/plain": [
       "array([[ 2,  3],\n",
       "       [11, 12]])"
      ]
     },
     "execution_count": 139,
     "metadata": {},
     "output_type": "execute_result"
    }
   ],
   "source": [
    "array2_2d[:2,2:4]"
   ]
  },
  {
   "cell_type": "code",
   "execution_count": null,
   "id": "27276ff7-fd80-45c9-a413-888fa87aba3c",
   "metadata": {},
   "outputs": [],
   "source": []
  }
 ],
 "metadata": {
  "kernelspec": {
   "display_name": "Python 3 (ipykernel)",
   "language": "python",
   "name": "python3"
  },
  "language_info": {
   "codemirror_mode": {
    "name": "ipython",
    "version": 3
   },
   "file_extension": ".py",
   "mimetype": "text/x-python",
   "name": "python",
   "nbconvert_exporter": "python",
   "pygments_lexer": "ipython3",
   "version": "3.12.4"
  }
 },
 "nbformat": 4,
 "nbformat_minor": 5
}
