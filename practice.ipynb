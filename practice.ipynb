{
 "cells": [
  {
   "cell_type": "code",
   "execution_count": 25,
   "id": "40928997-de07-4fdd-aa8d-76b08b5eb86a",
   "metadata": {},
   "outputs": [
    {
     "name": "stdout",
     "output_type": "stream",
     "text": [
      "\n",
      "\n",
      "0 \n",
      "\n",
      "0 1 \n",
      "\n",
      "0 1 2 \n",
      "\n",
      "0 1 2 3 \n",
      "\n",
      "0 1 2 3 4 \n",
      "\n"
     ]
    }
   ],
   "source": [
    "rows = 6\n",
    "for i in range(rows):\n",
    "    for j in range(i):\n",
    "        print (j, end=\" \")\n",
    "    print (\"\\n\")"
   ]
  },
  {
   "cell_type": "code",
   "execution_count": 39,
   "id": "f4c6deb9-a785-42f2-afc9-3ea7acc6b5c4",
   "metadata": {},
   "outputs": [
    {
     "name": "stdout",
     "output_type": "stream",
     "text": [
      "5\n"
     ]
    }
   ],
   "source": [
    "list1 = [1,2,3,4,5]\n",
    "print (len(list1))\n"
   ]
  },
  {
   "cell_type": "code",
   "execution_count": 41,
   "id": "4fd77411-56f6-4734-b88c-df5b4eeb1231",
   "metadata": {},
   "outputs": [
    {
     "name": "stdout",
     "output_type": "stream",
     "text": [
      "1\n",
      "2\n",
      "3\n",
      "4\n",
      "5\n"
     ]
    }
   ],
   "source": [
    "list1 = [1,2,3,4,5]\n",
    "for i in range(len(list1)):\n",
    "    print (list1[i])\n",
    "    "
   ]
  },
  {
   "cell_type": "code",
   "execution_count": 45,
   "id": "8e631bdc-9cd7-45ec-a705-364114f0dec8",
   "metadata": {},
   "outputs": [
    {
     "data": {
      "text/plain": [
       "[1, 2, 3, 4, 5]"
      ]
     },
     "execution_count": 45,
     "metadata": {},
     "output_type": "execute_result"
    }
   ],
   "source": [
    "list1"
   ]
  },
  {
   "cell_type": "code",
   "execution_count": 55,
   "id": "32ef2cde-8991-405b-bc48-f6aabdeb88c9",
   "metadata": {},
   "outputs": [
    {
     "name": "stdout",
     "output_type": "stream",
     "text": [
      "{'name': 'dog', 'legs': 4, 'eyes': 2}\n"
     ]
    }
   ],
   "source": [
    "animal = {\n",
    "    'name' : 'dog',\n",
    "    'legs' : 4,\n",
    "    'eyes' : 2\n",
    "}\n",
    "print (animal)"
   ]
  },
  {
   "cell_type": "code",
   "execution_count": 65,
   "id": "d4b0ab64-9790-45d6-a332-ba11abef010f",
   "metadata": {},
   "outputs": [
    {
     "data": {
      "text/plain": [
       "1"
      ]
     },
     "execution_count": 65,
     "metadata": {},
     "output_type": "execute_result"
    }
   ],
   "source": [
    "country = \"pakistan\"\n",
    "country.count(\"tan\")"
   ]
  },
  {
   "cell_type": "code",
   "execution_count": 81,
   "id": "46790bf7-3061-45b5-a924-5289a7421cbc",
   "metadata": {},
   "outputs": [
    {
     "name": "stdout",
     "output_type": "stream",
     "text": [
      "{'name': 'yaris', 'brand': 'toyota', 'type': 'sedan'}\n"
     ]
    }
   ],
   "source": [
    "car = {\n",
    "    'name' : 'corolla',\n",
    "    'brand' : 'toyota',\n",
    "    'type' : 'sedan'\n",
    "}\n",
    "car[\"name\"] = 'yaris'\n",
    "print (car)"
   ]
  },
  {
   "cell_type": "code",
   "execution_count": 73,
   "id": "c9f0bf90-c0b9-47f4-9119-aa364e2de81b",
   "metadata": {},
   "outputs": [
    {
     "name": "stdin",
     "output_type": "stream",
     "text": [
      "Enter size of elements in dictionary 2\n",
      "Enter name:  ali\n",
      "Enter salary:  545454\n",
      "Enter id:  23\n",
      "Enter name:  babloo\n",
      "Enter salary:  243434\n",
      "Enter id:  22\n"
     ]
    },
    {
     "name": "stdout",
     "output_type": "stream",
     "text": [
      "Name is:  {'ali': '545454', 'babloo': '243434'}\n",
      "Salary is:  {'ali': '545454', 'babloo': '243434'}\n",
      "Id is:  {'ali': '545454', 'babloo': '243434'}\n",
      "Name is:  {'ali': '545454', 'babloo': '243434'}\n",
      "Salary is:  {'ali': '545454', 'babloo': '243434'}\n",
      "Id is:  {'ali': '545454', 'babloo': '243434'}\n"
     ]
    }
   ],
   "source": [
    "employee = {}\n",
    "size = int(input(\"Enter size of elements in dictionary\"))\n",
    "\n",
    "for i in range(size):\n",
    "    name = input(\"Enter name: \")\n",
    "    salary = input(\"Enter salary: \")\n",
    "    id = input(\"Enter id: \")\n",
    "    employee[name] = salary\n",
    "\n",
    "for i in range(size):\n",
    "    print (\"Name is: \", employee)\n",
    "    print (\"Salary is: \", employee)\n",
    "    print (\"Id is: \", employee)\n",
    "    "
   ]
  },
  {
   "cell_type": "code",
   "execution_count": 87,
   "id": "4e6d806d-70a4-4ab9-8faa-6216ba00704b",
   "metadata": {},
   "outputs": [
    {
     "name": "stdin",
     "output_type": "stream",
     "text": [
      "enter size of list:  2\n",
      "Enter number: 1\n",
      "Enter number: 2\n",
      "Enter the number you want to find 1\n"
     ]
    },
    {
     "name": "stdout",
     "output_type": "stream",
     "text": [
      "The number  1  is at index  1\n"
     ]
    }
   ],
   "source": [
    "size = int(input(\"enter size of list: \"))\n",
    "list1 = [size]\n",
    "for i in range(size):\n",
    "    num = int(input(\"Enter number:\"))\n",
    "    list1.append(num)\n",
    "find = int(input(\"Enter the number you want to find\"))\n",
    "for j in range(1,size+1):\n",
    "    if (find == list1[j]):\n",
    "        print (\"The number \", list1[j], \" is at index \" , j)\n",
    "        \n",
    "        \n",
    "\n",
    "    \n",
    "        \n",
    "        \n",
    "\n"
   ]
  },
  {
   "cell_type": "code",
   "execution_count": 7,
   "id": "6f76c3c2-80f7-4f83-b9eb-4ab4443f7551",
   "metadata": {},
   "outputs": [
    {
     "name": "stdin",
     "output_type": "stream",
     "text": [
      "enter num1:  456\n",
      "enter num2 to find 2\n"
     ]
    },
    {
     "data": {
      "text/plain": [
       "'5'"
      ]
     },
     "execution_count": 7,
     "metadata": {},
     "output_type": "execute_result"
    }
   ],
   "source": [
    "num1 = input(\"enter num1: \")\n",
    "num2 = int(input(\"enter num2 to find\"))\n",
    "num1[num2-1]"
   ]
  },
  {
   "cell_type": "code",
   "execution_count": 45,
   "id": "43aa33ab-8198-4264-a97f-0d1e93c8bfdf",
   "metadata": {},
   "outputs": [
    {
     "name": "stdin",
     "output_type": "stream",
     "text": [
      "Enter some string abcd\n"
     ]
    },
    {
     "name": "stdout",
     "output_type": "stream",
     "text": [
      "Last character of string d\n",
      "Second last character of string  c\n"
     ]
    }
   ],
   "source": [
    "para = input(\"Enter some string\")\n",
    "length = len(para)\n",
    "find = para[length-1]\n",
    "print (\"Last character of string\", find)\n",
    "print (\"Second last character of string \", para[-2])"
   ]
  },
  {
   "cell_type": "code",
   "execution_count": 91,
   "id": "f506c09c-af70-4188-b83f-7fc14b1e7c5c",
   "metadata": {},
   "outputs": [
    {
     "name": "stdin",
     "output_type": "stream",
     "text": [
      "Enter size of dict:  1\n",
      "Enter brand name:  toyota\n",
      "Enter car name:  corolla\n"
     ]
    },
    {
     "name": "stdout",
     "output_type": "stream",
     "text": [
      "Car Brand is: corolla\n"
     ]
    }
   ],
   "source": [
    "dict = {}\n",
    "size = int(input(\"Enter size of dict: \"))\n",
    "for i in range (0, size):\n",
    "    key = input(\"Enter brand name: \")\n",
    "    value = input(\"Enter car name: \")\n",
    "    dict[key] = value\n",
    "\n",
    "for i in range(0,size):\n",
    "    print (f\"Car Brand is: {dict[key]}\" ) \n"
   ]
  },
  {
   "cell_type": "code",
   "execution_count": null,
   "id": "105495ce-3f9b-4b65-96a9-859119fd44f0",
   "metadata": {},
   "outputs": [],
   "source": []
  }
 ],
 "metadata": {
  "kernelspec": {
   "display_name": "Python 3 (ipykernel)",
   "language": "python",
   "name": "python3"
  },
  "language_info": {
   "codemirror_mode": {
    "name": "ipython",
    "version": 3
   },
   "file_extension": ".py",
   "mimetype": "text/x-python",
   "name": "python",
   "nbconvert_exporter": "python",
   "pygments_lexer": "ipython3",
   "version": "3.12.4"
  }
 },
 "nbformat": 4,
 "nbformat_minor": 5
}
