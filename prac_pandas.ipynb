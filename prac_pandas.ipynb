{
 "cells": [
  {
   "cell_type": "code",
   "execution_count": 1,
   "id": "0a6214cd-08df-4afc-a67a-f63144873367",
   "metadata": {},
   "outputs": [],
   "source": [
    "import pandas as pd"
   ]
  },
  {
   "cell_type": "code",
   "execution_count": 2,
   "id": "161e3310-568b-4756-92b1-67ec54fa8c1c",
   "metadata": {},
   "outputs": [],
   "source": [
    "s1 = pd.Series([12,24,36,12,6,12,24], index=['apples','oranges','bananas', 'samosas','rolls', 'chickens', 'coldrinks'])\n"
   ]
  },
  {
   "cell_type": "code",
   "execution_count": 3,
   "id": "64413867-b455-497d-9e52-a3146bccf1e4",
   "metadata": {},
   "outputs": [
    {
     "data": {
      "text/plain": [
       "apples       12\n",
       "oranges      24\n",
       "bananas      36\n",
       "samosas      12\n",
       "rolls         6\n",
       "chickens     12\n",
       "coldrinks    24\n",
       "dtype: int64"
      ]
     },
     "execution_count": 3,
     "metadata": {},
     "output_type": "execute_result"
    }
   ],
   "source": [
    "s1\n"
   ]
  },
  {
   "cell_type": "code",
   "execution_count": 4,
   "id": "1fbba62b-c2d0-46df-b1cf-93640eb5d6fa",
   "metadata": {},
   "outputs": [
    {
     "data": {
      "text/plain": [
       "Index(['apples', 'oranges', 'bananas', 'samosas', 'rolls', 'chickens',\n",
       "       'coldrinks'],\n",
       "      dtype='object')"
      ]
     },
     "execution_count": 4,
     "metadata": {},
     "output_type": "execute_result"
    }
   ],
   "source": [
    "s1.index\n"
   ]
  },
  {
   "cell_type": "code",
   "execution_count": 6,
   "id": "f7df158f-9122-470c-a4af-6f592d9173e4",
   "metadata": {},
   "outputs": [
    {
     "name": "stdout",
     "output_type": "stream",
     "text": [
      "apples       12\n",
      "oranges      24\n",
      "bananas      36\n",
      "samosas      12\n",
      "rolls         6\n",
      "chickens     12\n",
      "coldrinks    24\n",
      "dtype: int64\n"
     ]
    }
   ],
   "source": [
    "print (s1)"
   ]
  },
  {
   "cell_type": "code",
   "execution_count": 7,
   "id": "5ecb5740-5d94-4557-b0d1-ec05ddc27c0a",
   "metadata": {},
   "outputs": [
    {
     "data": {
      "text/plain": [
       "array([12, 24, 36, 12,  6, 12, 24], dtype=int64)"
      ]
     },
     "execution_count": 7,
     "metadata": {},
     "output_type": "execute_result"
    }
   ],
   "source": [
    "s1.values"
   ]
  },
  {
   "cell_type": "code",
   "execution_count": 17,
   "id": "87e540ed-4634-4539-aea3-29bb02e3feae",
   "metadata": {},
   "outputs": [
    {
     "data": {
      "text/plain": [
       "12"
      ]
     },
     "execution_count": 17,
     "metadata": {},
     "output_type": "execute_result"
    }
   ],
   "source": [
    "# ye neeche likhe teeno command same hain\n",
    "#s1[0]\n",
    "s1['apples']\n",
    "#s1.iloc[0] iss command ka faida ye hai ke woh notification show nhi hoti"
   ]
  },
  {
   "cell_type": "code",
   "execution_count": 9,
   "id": "28ac7d77-c46f-434c-8336-5bd86a8baa6a",
   "metadata": {},
   "outputs": [
    {
     "data": {
      "text/plain": [
       "apples       24\n",
       "oranges      48\n",
       "bananas      72\n",
       "samosas      24\n",
       "rolls        12\n",
       "chickens     24\n",
       "coldrinks    48\n",
       "dtype: int64"
      ]
     },
     "execution_count": 9,
     "metadata": {},
     "output_type": "execute_result"
    }
   ],
   "source": [
    "s1*2"
   ]
  },
  {
   "cell_type": "code",
   "execution_count": 30,
   "id": "191b7c2d-cfcc-4843-be8a-409c85f73346",
   "metadata": {},
   "outputs": [
    {
     "data": {
      "text/plain": [
       "('apples', 12)"
      ]
     },
     "execution_count": 30,
     "metadata": {},
     "output_type": "execute_result"
    }
   ],
   "source": [
    "s1.index[0], s1['apples']"
   ]
  },
  {
   "cell_type": "code",
   "execution_count": 31,
   "id": "eab4e4f5-a49f-43bb-86e2-ccc18a053b1e",
   "metadata": {},
   "outputs": [
    {
     "name": "stdout",
     "output_type": "stream",
     "text": [
      "Pandas DataFrame:\n"
     ]
    },
    {
     "data": {
      "text/html": [
       "<div>\n",
       "<style scoped>\n",
       "    .dataframe tbody tr th:only-of-type {\n",
       "        vertical-align: middle;\n",
       "    }\n",
       "\n",
       "    .dataframe tbody tr th {\n",
       "        vertical-align: top;\n",
       "    }\n",
       "\n",
       "    .dataframe thead th {\n",
       "        text-align: right;\n",
       "    }\n",
       "</style>\n",
       "<table border=\"1\" class=\"dataframe\">\n",
       "  <thead>\n",
       "    <tr style=\"text-align: right;\">\n",
       "      <th></th>\n",
       "      <th>Name</th>\n",
       "      <th>Age</th>\n",
       "      <th>City</th>\n",
       "    </tr>\n",
       "  </thead>\n",
       "  <tbody>\n",
       "    <tr>\n",
       "      <th>0</th>\n",
       "      <td>Alice</td>\n",
       "      <td>25</td>\n",
       "      <td>New York</td>\n",
       "    </tr>\n",
       "    <tr>\n",
       "      <th>1</th>\n",
       "      <td>Bob</td>\n",
       "      <td>30</td>\n",
       "      <td>San Francisco</td>\n",
       "    </tr>\n",
       "    <tr>\n",
       "      <th>2</th>\n",
       "      <td>Charlie</td>\n",
       "      <td>35</td>\n",
       "      <td>Los Angeles</td>\n",
       "    </tr>\n",
       "  </tbody>\n",
       "</table>\n",
       "</div>"
      ],
      "text/plain": [
       "      Name  Age           City\n",
       "0    Alice   25       New York\n",
       "1      Bob   30  San Francisco\n",
       "2  Charlie   35    Los Angeles"
      ]
     },
     "execution_count": 31,
     "metadata": {},
     "output_type": "execute_result"
    }
   ],
   "source": [
    "# Creating a DataFrame from a dictionary\n",
    "data = {\n",
    "    'Name': ['Alice', 'Bob', 'Charlie'],\n",
    "    'Age': [25, 30, 35],\n",
    "    'City': ['New York', 'San Francisco', 'Los Angeles']\n",
    "}\n",
    "df = pd.DataFrame(data)\n",
    "\n",
    "print(\"Pandas DataFrame:\")\n",
    "df\n"
   ]
  },
  {
   "cell_type": "code",
   "execution_count": 62,
   "id": "c0934183-da1f-40af-b22f-5f1bb3d2a0ec",
   "metadata": {},
   "outputs": [
    {
     "data": {
      "text/html": [
       "<div>\n",
       "<style scoped>\n",
       "    .dataframe tbody tr th:only-of-type {\n",
       "        vertical-align: middle;\n",
       "    }\n",
       "\n",
       "    .dataframe tbody tr th {\n",
       "        vertical-align: top;\n",
       "    }\n",
       "\n",
       "    .dataframe thead th {\n",
       "        text-align: right;\n",
       "    }\n",
       "</style>\n",
       "<table border=\"1\" class=\"dataframe\">\n",
       "  <thead>\n",
       "    <tr style=\"text-align: right;\">\n",
       "      <th></th>\n",
       "      <th>name</th>\n",
       "      <th>roll</th>\n",
       "      <th>python</th>\n",
       "      <th>excel</th>\n",
       "      <th>power_bi</th>\n",
       "      <th>pandas</th>\n",
       "      <th>machine_learning</th>\n",
       "      <th>statistics</th>\n",
       "    </tr>\n",
       "  </thead>\n",
       "  <tbody>\n",
       "    <tr>\n",
       "      <th>0</th>\n",
       "      <td>Alpha</td>\n",
       "      <td>11</td>\n",
       "      <td>78</td>\n",
       "      <td>89</td>\n",
       "      <td>45</td>\n",
       "      <td>81</td>\n",
       "      <td>96</td>\n",
       "      <td>67</td>\n",
       "    </tr>\n",
       "    <tr>\n",
       "      <th>1</th>\n",
       "      <td>Bravo</td>\n",
       "      <td>22</td>\n",
       "      <td>67</td>\n",
       "      <td>87</td>\n",
       "      <td>67</td>\n",
       "      <td>85</td>\n",
       "      <td>95</td>\n",
       "      <td>48</td>\n",
       "    </tr>\n",
       "    <tr>\n",
       "      <th>2</th>\n",
       "      <td>Charlie</td>\n",
       "      <td>33</td>\n",
       "      <td>89</td>\n",
       "      <td>67</td>\n",
       "      <td>89</td>\n",
       "      <td>89</td>\n",
       "      <td>84</td>\n",
       "      <td>45</td>\n",
       "    </tr>\n",
       "    <tr>\n",
       "      <th>3</th>\n",
       "      <td>Delta</td>\n",
       "      <td>44</td>\n",
       "      <td>59</td>\n",
       "      <td>74</td>\n",
       "      <td>87</td>\n",
       "      <td>87</td>\n",
       "      <td>85</td>\n",
       "      <td>98</td>\n",
       "    </tr>\n",
       "    <tr>\n",
       "      <th>4</th>\n",
       "      <td>Echo</td>\n",
       "      <td>55</td>\n",
       "      <td>90</td>\n",
       "      <td>78</td>\n",
       "      <td>67</td>\n",
       "      <td>41</td>\n",
       "      <td>82</td>\n",
       "      <td>75</td>\n",
       "    </tr>\n",
       "    <tr>\n",
       "      <th>5</th>\n",
       "      <td>Foxtrot</td>\n",
       "      <td>66</td>\n",
       "      <td>72</td>\n",
       "      <td>90</td>\n",
       "      <td>90</td>\n",
       "      <td>45</td>\n",
       "      <td>81</td>\n",
       "      <td>71</td>\n",
       "    </tr>\n",
       "    <tr>\n",
       "      <th>6</th>\n",
       "      <td>Golf</td>\n",
       "      <td>77</td>\n",
       "      <td>76</td>\n",
       "      <td>76</td>\n",
       "      <td>65</td>\n",
       "      <td>96</td>\n",
       "      <td>74</td>\n",
       "      <td>70</td>\n",
       "    </tr>\n",
       "    <tr>\n",
       "      <th>7</th>\n",
       "      <td>Hotel</td>\n",
       "      <td>88</td>\n",
       "      <td>89</td>\n",
       "      <td>78</td>\n",
       "      <td>67</td>\n",
       "      <td>56</td>\n",
       "      <td>75</td>\n",
       "      <td>60</td>\n",
       "    </tr>\n",
       "    <tr>\n",
       "      <th>8</th>\n",
       "      <td>India</td>\n",
       "      <td>99</td>\n",
       "      <td>67</td>\n",
       "      <td>90</td>\n",
       "      <td>56</td>\n",
       "      <td>93</td>\n",
       "      <td>96</td>\n",
       "      <td>90</td>\n",
       "    </tr>\n",
       "    <tr>\n",
       "      <th>9</th>\n",
       "      <td>Juliet</td>\n",
       "      <td>111</td>\n",
       "      <td>85</td>\n",
       "      <td>54</td>\n",
       "      <td>90</td>\n",
       "      <td>78</td>\n",
       "      <td>90</td>\n",
       "      <td>93</td>\n",
       "    </tr>\n",
       "  </tbody>\n",
       "</table>\n",
       "</div>"
      ],
      "text/plain": [
       "      name  roll  python  excel  power_bi  pandas  machine_learning  \\\n",
       "0    Alpha    11      78     89        45      81                96   \n",
       "1    Bravo    22      67     87        67      85                95   \n",
       "2  Charlie    33      89     67        89      89                84   \n",
       "3    Delta    44      59     74        87      87                85   \n",
       "4     Echo    55      90     78        67      41                82   \n",
       "5  Foxtrot    66      72     90        90      45                81   \n",
       "6     Golf    77      76     76        65      96                74   \n",
       "7    Hotel    88      89     78        67      56                75   \n",
       "8    India    99      67     90        56      93                96   \n",
       "9   Juliet   111      85     54        90      78                90   \n",
       "\n",
       "   statistics  \n",
       "0          67  \n",
       "1          48  \n",
       "2          45  \n",
       "3          98  \n",
       "4          75  \n",
       "5          71  \n",
       "6          70  \n",
       "7          60  \n",
       "8          90  \n",
       "9          93  "
      ]
     },
     "execution_count": 62,
     "metadata": {},
     "output_type": "execute_result"
    }
   ],
   "source": [
    "# Creating a data frame\n",
    "result = {'name':          ['Alpha','Bravo', 'Charlie','Delta','Echo','Foxtrot','Golf','Hotel','India','Juliet'],\n",
    "          'roll':          [11,22,33,44,55,66,77,88,99,111],\n",
    "          'python':        [78,67,89,59,90,72,76,89,67,85],\n",
    "          'excel':         [89,87,67,74,78,90,76,78,90,54],\n",
    "           'power_bi':     [45,67,89,87,67,90,65,67,56,90],\n",
    "          'pandas':        [81,85,89,87,41,45,96,56,93,78],\n",
    "        'machine_learning':[96,95,84,85,82,81,74,75,96,90],\n",
    "         'statistics':     [67,48,45,98,75,71,70,60,90,93]}\n",
    "\n",
    "df1 = pd.DataFrame(result)\n",
    "df1\n"
   ]
  },
  {
   "cell_type": "code",
   "execution_count": 33,
   "id": "2f580884-065b-4983-96e7-426647f480ed",
   "metadata": {},
   "outputs": [
    {
     "name": "stdout",
     "output_type": "stream",
     "text": [
      "Shape of DataFrame: (3, 3)\n"
     ]
    }
   ],
   "source": [
    "\n",
    "print(\"Shape of DataFrame:\", df.shape)"
   ]
  },
  {
   "cell_type": "code",
   "execution_count": 34,
   "id": "0f8afd77-5e59-4aac-a804-a1db69d6d511",
   "metadata": {},
   "outputs": [
    {
     "name": "stdout",
     "output_type": "stream",
     "text": [
      "Shape of DataFrame: (10, 8)\n"
     ]
    }
   ],
   "source": [
    "# i am printing shape of df1 which is (10, 8) because there are 10 rows and 8 columns\n",
    "print(\"Shape of DataFrame:\", df1.shape)"
   ]
  },
  {
   "cell_type": "code",
   "execution_count": 53,
   "id": "2b62cf31-3644-417c-8828-0845d995136a",
   "metadata": {},
   "outputs": [
    {
     "name": "stdout",
     "output_type": "stream",
     "text": [
      "        Age\n",
      "count   3.0\n",
      "mean   30.0\n",
      "std     5.0\n",
      "min    25.0\n",
      "25%    27.5\n",
      "50%    30.0\n",
      "75%    32.5\n",
      "max    35.0\n"
     ]
    }
   ],
   "source": [
    "print(df.describe())\n",
    "# ye function aapke table mai se rows ke stats batata hai (sirf un columns ka batata hai jinme numbers hotay hain) "
   ]
  },
  {
   "cell_type": "code",
   "execution_count": 63,
   "id": "2d9ff869-3aab-4ebc-a4e7-aa398621f29f",
   "metadata": {},
   "outputs": [
    {
     "name": "stdout",
     "output_type": "stream",
     "text": [
      "             roll     python      excel   power_bi     pandas  \\\n",
      "count   10.000000  10.000000  10.000000  10.000000  10.000000   \n",
      "mean    60.600000  77.200000  78.300000  72.300000  75.100000   \n",
      "std     33.470385  10.911767  11.576317  15.881855  20.184978   \n",
      "min     11.000000  59.000000  54.000000  45.000000  41.000000   \n",
      "25%     35.750000  68.250000  74.500000  65.500000  61.500000   \n",
      "50%     60.500000  77.000000  78.000000  67.000000  83.000000   \n",
      "75%     85.250000  88.000000  88.500000  88.500000  88.500000   \n",
      "max    111.000000  90.000000  90.000000  90.000000  96.000000   \n",
      "\n",
      "       machine_learning  statistics  \n",
      "count         10.000000   10.000000  \n",
      "mean          85.800000   71.700000  \n",
      "std            8.216515   18.037307  \n",
      "min           74.000000   45.000000  \n",
      "25%           81.250000   61.750000  \n",
      "50%           84.500000   70.500000  \n",
      "75%           93.750000   86.250000  \n",
      "max           96.000000   98.000000  \n"
     ]
    }
   ],
   "source": [
    "print(df1.describe())\n"
   ]
  },
  {
   "cell_type": "code",
   "execution_count": 37,
   "id": "4d9ea8b7-ebed-4220-bae7-c4de244f6cf2",
   "metadata": {},
   "outputs": [
    {
     "data": {
      "text/plain": [
       "Index(['name', 'roll', 'python', 'excel', 'power_bi', 'pandas',\n",
       "       'machine_learning', 'statistics'],\n",
       "      dtype='object')"
      ]
     },
     "execution_count": 37,
     "metadata": {},
     "output_type": "execute_result"
    }
   ],
   "source": [
    "df1.columns\n",
    "#columns print karne ke liye functions \n",
    "#aap iss function ko use karke rename bhi kar sakte ho column ki values"
   ]
  },
  {
   "cell_type": "code",
   "execution_count": 40,
   "id": "70a04090-2f5d-4f3f-8939-4a4ed8456122",
   "metadata": {},
   "outputs": [
    {
     "data": {
      "text/plain": [
       "Index(['Name', 'Roll', 'Python', 'Excel', 'Power_bi', 'Pandas',\n",
       "       'Machine_learning', 'Statistics'],\n",
       "      dtype='object')"
      ]
     },
     "execution_count": 40,
     "metadata": {},
     "output_type": "execute_result"
    }
   ],
   "source": [
    "df1.columns = ['Name','Roll','Python','Excel','Power_bi','Pandas','Machine_learning','Statistics']\n",
    "df1.columns\n",
    "#change hojayen gi ab names columns ki"
   ]
  },
  {
   "cell_type": "code",
   "execution_count": 77,
   "id": "5f674f3a-6ccf-4e52-8c44-ee4eaa06bf35",
   "metadata": {},
   "outputs": [
    {
     "data": {
      "text/html": [
       "<div>\n",
       "<style scoped>\n",
       "    .dataframe tbody tr th:only-of-type {\n",
       "        vertical-align: middle;\n",
       "    }\n",
       "\n",
       "    .dataframe tbody tr th {\n",
       "        vertical-align: top;\n",
       "    }\n",
       "\n",
       "    .dataframe thead th {\n",
       "        text-align: right;\n",
       "    }\n",
       "</style>\n",
       "<table border=\"1\" class=\"dataframe\">\n",
       "  <thead>\n",
       "    <tr style=\"text-align: right;\">\n",
       "      <th></th>\n",
       "      <th>name</th>\n",
       "      <th>roll</th>\n",
       "      <th>python</th>\n",
       "      <th>excel</th>\n",
       "      <th>power_bi</th>\n",
       "      <th>pandas</th>\n",
       "      <th>machine_learning</th>\n",
       "      <th>statistics</th>\n",
       "    </tr>\n",
       "  </thead>\n",
       "  <tbody>\n",
       "    <tr>\n",
       "      <th>0</th>\n",
       "      <td>Alpha</td>\n",
       "      <td>11</td>\n",
       "      <td>78</td>\n",
       "      <td>89</td>\n",
       "      <td>45</td>\n",
       "      <td>81</td>\n",
       "      <td>96</td>\n",
       "      <td>67</td>\n",
       "    </tr>\n",
       "    <tr>\n",
       "      <th>1</th>\n",
       "      <td>Bravo</td>\n",
       "      <td>22</td>\n",
       "      <td>67</td>\n",
       "      <td>87</td>\n",
       "      <td>67</td>\n",
       "      <td>85</td>\n",
       "      <td>95</td>\n",
       "      <td>48</td>\n",
       "    </tr>\n",
       "    <tr>\n",
       "      <th>2</th>\n",
       "      <td>Charlie</td>\n",
       "      <td>33</td>\n",
       "      <td>89</td>\n",
       "      <td>67</td>\n",
       "      <td>89</td>\n",
       "      <td>89</td>\n",
       "      <td>84</td>\n",
       "      <td>45</td>\n",
       "    </tr>\n",
       "    <tr>\n",
       "      <th>3</th>\n",
       "      <td>Delta</td>\n",
       "      <td>44</td>\n",
       "      <td>59</td>\n",
       "      <td>74</td>\n",
       "      <td>87</td>\n",
       "      <td>87</td>\n",
       "      <td>85</td>\n",
       "      <td>98</td>\n",
       "    </tr>\n",
       "    <tr>\n",
       "      <th>4</th>\n",
       "      <td>Echo</td>\n",
       "      <td>55</td>\n",
       "      <td>90</td>\n",
       "      <td>78</td>\n",
       "      <td>67</td>\n",
       "      <td>41</td>\n",
       "      <td>82</td>\n",
       "      <td>75</td>\n",
       "    </tr>\n",
       "    <tr>\n",
       "      <th>5</th>\n",
       "      <td>Foxtrot</td>\n",
       "      <td>66</td>\n",
       "      <td>72</td>\n",
       "      <td>90</td>\n",
       "      <td>90</td>\n",
       "      <td>45</td>\n",
       "      <td>81</td>\n",
       "      <td>71</td>\n",
       "    </tr>\n",
       "    <tr>\n",
       "      <th>6</th>\n",
       "      <td>Golf</td>\n",
       "      <td>77</td>\n",
       "      <td>76</td>\n",
       "      <td>76</td>\n",
       "      <td>65</td>\n",
       "      <td>96</td>\n",
       "      <td>74</td>\n",
       "      <td>70</td>\n",
       "    </tr>\n",
       "    <tr>\n",
       "      <th>7</th>\n",
       "      <td>Hotel</td>\n",
       "      <td>88</td>\n",
       "      <td>89</td>\n",
       "      <td>78</td>\n",
       "      <td>67</td>\n",
       "      <td>56</td>\n",
       "      <td>75</td>\n",
       "      <td>60</td>\n",
       "    </tr>\n",
       "    <tr>\n",
       "      <th>8</th>\n",
       "      <td>India</td>\n",
       "      <td>99</td>\n",
       "      <td>67</td>\n",
       "      <td>90</td>\n",
       "      <td>56</td>\n",
       "      <td>93</td>\n",
       "      <td>96</td>\n",
       "      <td>90</td>\n",
       "    </tr>\n",
       "    <tr>\n",
       "      <th>9</th>\n",
       "      <td>Juliet</td>\n",
       "      <td>111</td>\n",
       "      <td>85</td>\n",
       "      <td>54</td>\n",
       "      <td>90</td>\n",
       "      <td>78</td>\n",
       "      <td>90</td>\n",
       "      <td>93</td>\n",
       "    </tr>\n",
       "  </tbody>\n",
       "</table>\n",
       "</div>"
      ],
      "text/plain": [
       "      name  roll  python  excel  power_bi  pandas  machine_learning  \\\n",
       "0    Alpha    11      78     89        45      81                96   \n",
       "1    Bravo    22      67     87        67      85                95   \n",
       "2  Charlie    33      89     67        89      89                84   \n",
       "3    Delta    44      59     74        87      87                85   \n",
       "4     Echo    55      90     78        67      41                82   \n",
       "5  Foxtrot    66      72     90        90      45                81   \n",
       "6     Golf    77      76     76        65      96                74   \n",
       "7    Hotel    88      89     78        67      56                75   \n",
       "8    India    99      67     90        56      93                96   \n",
       "9   Juliet   111      85     54        90      78                90   \n",
       "\n",
       "   statistics  \n",
       "0          67  \n",
       "1          48  \n",
       "2          45  \n",
       "3          98  \n",
       "4          75  \n",
       "5          71  \n",
       "6          70  \n",
       "7          60  \n",
       "8          90  \n",
       "9          93  "
      ]
     },
     "execution_count": 77,
     "metadata": {},
     "output_type": "execute_result"
    }
   ],
   "source": [
    "df1\n",
    "#yahan bhi change hojayen gi names columns ki (mene wese sirf capital kara hai first letter ko)"
   ]
  },
  {
   "cell_type": "code",
   "execution_count": 81,
   "id": "31e594cc-b8ad-49d0-92c1-c7ac877a6b97",
   "metadata": {},
   "outputs": [
    {
     "data": {
      "text/html": [
       "<div>\n",
       "<style scoped>\n",
       "    .dataframe tbody tr th:only-of-type {\n",
       "        vertical-align: middle;\n",
       "    }\n",
       "\n",
       "    .dataframe tbody tr th {\n",
       "        vertical-align: top;\n",
       "    }\n",
       "\n",
       "    .dataframe thead th {\n",
       "        text-align: right;\n",
       "    }\n",
       "</style>\n",
       "<table border=\"1\" class=\"dataframe\">\n",
       "  <thead>\n",
       "    <tr style=\"text-align: right;\">\n",
       "      <th></th>\n",
       "      <th>name</th>\n",
       "      <th>Id</th>\n",
       "      <th>python</th>\n",
       "      <th>excel</th>\n",
       "      <th>power_bi</th>\n",
       "      <th>pandas</th>\n",
       "      <th>machine_learning</th>\n",
       "      <th>Stats</th>\n",
       "    </tr>\n",
       "  </thead>\n",
       "  <tbody>\n",
       "    <tr>\n",
       "      <th>0</th>\n",
       "      <td>Alpha</td>\n",
       "      <td>11</td>\n",
       "      <td>78</td>\n",
       "      <td>89</td>\n",
       "      <td>45</td>\n",
       "      <td>81</td>\n",
       "      <td>96</td>\n",
       "      <td>67</td>\n",
       "    </tr>\n",
       "    <tr>\n",
       "      <th>1</th>\n",
       "      <td>Bravo</td>\n",
       "      <td>22</td>\n",
       "      <td>67</td>\n",
       "      <td>87</td>\n",
       "      <td>67</td>\n",
       "      <td>85</td>\n",
       "      <td>95</td>\n",
       "      <td>48</td>\n",
       "    </tr>\n",
       "    <tr>\n",
       "      <th>2</th>\n",
       "      <td>Charlie</td>\n",
       "      <td>33</td>\n",
       "      <td>89</td>\n",
       "      <td>67</td>\n",
       "      <td>89</td>\n",
       "      <td>89</td>\n",
       "      <td>84</td>\n",
       "      <td>45</td>\n",
       "    </tr>\n",
       "    <tr>\n",
       "      <th>3</th>\n",
       "      <td>Delta</td>\n",
       "      <td>44</td>\n",
       "      <td>59</td>\n",
       "      <td>74</td>\n",
       "      <td>87</td>\n",
       "      <td>87</td>\n",
       "      <td>85</td>\n",
       "      <td>98</td>\n",
       "    </tr>\n",
       "    <tr>\n",
       "      <th>4</th>\n",
       "      <td>Echo</td>\n",
       "      <td>55</td>\n",
       "      <td>90</td>\n",
       "      <td>78</td>\n",
       "      <td>67</td>\n",
       "      <td>41</td>\n",
       "      <td>82</td>\n",
       "      <td>75</td>\n",
       "    </tr>\n",
       "    <tr>\n",
       "      <th>5</th>\n",
       "      <td>Foxtrot</td>\n",
       "      <td>66</td>\n",
       "      <td>72</td>\n",
       "      <td>90</td>\n",
       "      <td>90</td>\n",
       "      <td>45</td>\n",
       "      <td>81</td>\n",
       "      <td>71</td>\n",
       "    </tr>\n",
       "    <tr>\n",
       "      <th>6</th>\n",
       "      <td>Golf</td>\n",
       "      <td>77</td>\n",
       "      <td>76</td>\n",
       "      <td>76</td>\n",
       "      <td>65</td>\n",
       "      <td>96</td>\n",
       "      <td>74</td>\n",
       "      <td>70</td>\n",
       "    </tr>\n",
       "    <tr>\n",
       "      <th>7</th>\n",
       "      <td>Hotel</td>\n",
       "      <td>88</td>\n",
       "      <td>89</td>\n",
       "      <td>78</td>\n",
       "      <td>67</td>\n",
       "      <td>56</td>\n",
       "      <td>75</td>\n",
       "      <td>60</td>\n",
       "    </tr>\n",
       "    <tr>\n",
       "      <th>8</th>\n",
       "      <td>India</td>\n",
       "      <td>99</td>\n",
       "      <td>67</td>\n",
       "      <td>90</td>\n",
       "      <td>56</td>\n",
       "      <td>93</td>\n",
       "      <td>96</td>\n",
       "      <td>90</td>\n",
       "    </tr>\n",
       "    <tr>\n",
       "      <th>9</th>\n",
       "      <td>Juliet</td>\n",
       "      <td>111</td>\n",
       "      <td>85</td>\n",
       "      <td>54</td>\n",
       "      <td>90</td>\n",
       "      <td>78</td>\n",
       "      <td>90</td>\n",
       "      <td>93</td>\n",
       "    </tr>\n",
       "  </tbody>\n",
       "</table>\n",
       "</div>"
      ],
      "text/plain": [
       "      name   Id  python  excel  power_bi  pandas  machine_learning  Stats\n",
       "0    Alpha   11      78     89        45      81                96     67\n",
       "1    Bravo   22      67     87        67      85                95     48\n",
       "2  Charlie   33      89     67        89      89                84     45\n",
       "3    Delta   44      59     74        87      87                85     98\n",
       "4     Echo   55      90     78        67      41                82     75\n",
       "5  Foxtrot   66      72     90        90      45                81     71\n",
       "6     Golf   77      76     76        65      96                74     70\n",
       "7    Hotel   88      89     78        67      56                75     60\n",
       "8    India   99      67     90        56      93                96     90\n",
       "9   Juliet  111      85     54        90      78                90     93"
      ]
     },
     "execution_count": 81,
     "metadata": {},
     "output_type": "execute_result"
    }
   ],
   "source": [
    "df1.rename(columns={'roll':'Id', 'statistics':\"Stats\"})\n",
    "# iss tarah custom apni marzi ki column ka name change kar sakte hain lekin woh permanent nhi hota sirf one time change hota hai \n",
    "# means ke woh memory mai update nhi hota"
   ]
  },
  {
   "cell_type": "code",
   "execution_count": 82,
   "id": "30cae8ee-3574-4119-a640-494a6fc20e70",
   "metadata": {},
   "outputs": [
    {
     "data": {
      "text/html": [
       "<div>\n",
       "<style scoped>\n",
       "    .dataframe tbody tr th:only-of-type {\n",
       "        vertical-align: middle;\n",
       "    }\n",
       "\n",
       "    .dataframe tbody tr th {\n",
       "        vertical-align: top;\n",
       "    }\n",
       "\n",
       "    .dataframe thead th {\n",
       "        text-align: right;\n",
       "    }\n",
       "</style>\n",
       "<table border=\"1\" class=\"dataframe\">\n",
       "  <thead>\n",
       "    <tr style=\"text-align: right;\">\n",
       "      <th></th>\n",
       "      <th>name</th>\n",
       "      <th>roll</th>\n",
       "      <th>python</th>\n",
       "      <th>excel</th>\n",
       "      <th>power_bi</th>\n",
       "      <th>pandas</th>\n",
       "      <th>machine_learning</th>\n",
       "      <th>statistics</th>\n",
       "    </tr>\n",
       "  </thead>\n",
       "  <tbody>\n",
       "    <tr>\n",
       "      <th>0</th>\n",
       "      <td>Alpha</td>\n",
       "      <td>11</td>\n",
       "      <td>78</td>\n",
       "      <td>89</td>\n",
       "      <td>45</td>\n",
       "      <td>81</td>\n",
       "      <td>96</td>\n",
       "      <td>67</td>\n",
       "    </tr>\n",
       "    <tr>\n",
       "      <th>1</th>\n",
       "      <td>Bravo</td>\n",
       "      <td>22</td>\n",
       "      <td>67</td>\n",
       "      <td>87</td>\n",
       "      <td>67</td>\n",
       "      <td>85</td>\n",
       "      <td>95</td>\n",
       "      <td>48</td>\n",
       "    </tr>\n",
       "    <tr>\n",
       "      <th>2</th>\n",
       "      <td>Charlie</td>\n",
       "      <td>33</td>\n",
       "      <td>89</td>\n",
       "      <td>67</td>\n",
       "      <td>89</td>\n",
       "      <td>89</td>\n",
       "      <td>84</td>\n",
       "      <td>45</td>\n",
       "    </tr>\n",
       "    <tr>\n",
       "      <th>3</th>\n",
       "      <td>Delta</td>\n",
       "      <td>44</td>\n",
       "      <td>59</td>\n",
       "      <td>74</td>\n",
       "      <td>87</td>\n",
       "      <td>87</td>\n",
       "      <td>85</td>\n",
       "      <td>98</td>\n",
       "    </tr>\n",
       "    <tr>\n",
       "      <th>4</th>\n",
       "      <td>Echo</td>\n",
       "      <td>55</td>\n",
       "      <td>90</td>\n",
       "      <td>78</td>\n",
       "      <td>67</td>\n",
       "      <td>41</td>\n",
       "      <td>82</td>\n",
       "      <td>75</td>\n",
       "    </tr>\n",
       "    <tr>\n",
       "      <th>5</th>\n",
       "      <td>Foxtrot</td>\n",
       "      <td>66</td>\n",
       "      <td>72</td>\n",
       "      <td>90</td>\n",
       "      <td>90</td>\n",
       "      <td>45</td>\n",
       "      <td>81</td>\n",
       "      <td>71</td>\n",
       "    </tr>\n",
       "    <tr>\n",
       "      <th>6</th>\n",
       "      <td>Golf</td>\n",
       "      <td>77</td>\n",
       "      <td>76</td>\n",
       "      <td>76</td>\n",
       "      <td>65</td>\n",
       "      <td>96</td>\n",
       "      <td>74</td>\n",
       "      <td>70</td>\n",
       "    </tr>\n",
       "    <tr>\n",
       "      <th>7</th>\n",
       "      <td>Hotel</td>\n",
       "      <td>88</td>\n",
       "      <td>89</td>\n",
       "      <td>78</td>\n",
       "      <td>67</td>\n",
       "      <td>56</td>\n",
       "      <td>75</td>\n",
       "      <td>60</td>\n",
       "    </tr>\n",
       "    <tr>\n",
       "      <th>8</th>\n",
       "      <td>India</td>\n",
       "      <td>99</td>\n",
       "      <td>67</td>\n",
       "      <td>90</td>\n",
       "      <td>56</td>\n",
       "      <td>93</td>\n",
       "      <td>96</td>\n",
       "      <td>90</td>\n",
       "    </tr>\n",
       "    <tr>\n",
       "      <th>9</th>\n",
       "      <td>Juliet</td>\n",
       "      <td>111</td>\n",
       "      <td>85</td>\n",
       "      <td>54</td>\n",
       "      <td>90</td>\n",
       "      <td>78</td>\n",
       "      <td>90</td>\n",
       "      <td>93</td>\n",
       "    </tr>\n",
       "  </tbody>\n",
       "</table>\n",
       "</div>"
      ],
      "text/plain": [
       "      name  roll  python  excel  power_bi  pandas  machine_learning  \\\n",
       "0    Alpha    11      78     89        45      81                96   \n",
       "1    Bravo    22      67     87        67      85                95   \n",
       "2  Charlie    33      89     67        89      89                84   \n",
       "3    Delta    44      59     74        87      87                85   \n",
       "4     Echo    55      90     78        67      41                82   \n",
       "5  Foxtrot    66      72     90        90      45                81   \n",
       "6     Golf    77      76     76        65      96                74   \n",
       "7    Hotel    88      89     78        67      56                75   \n",
       "8    India    99      67     90        56      93                96   \n",
       "9   Juliet   111      85     54        90      78                90   \n",
       "\n",
       "   statistics  \n",
       "0          67  \n",
       "1          48  \n",
       "2          45  \n",
       "3          98  \n",
       "4          75  \n",
       "5          71  \n",
       "6          70  \n",
       "7          60  \n",
       "8          90  \n",
       "9          93  "
      ]
     },
     "execution_count": 82,
     "metadata": {},
     "output_type": "execute_result"
    }
   ],
   "source": [
    "df1\n",
    "#ab dekho woh dubara purana walay columns show ho rahay name change nhi hua "
   ]
  },
  {
   "cell_type": "code",
   "execution_count": 83,
   "id": "d75a7d66-1951-4978-9064-fb02cb30c0bf",
   "metadata": {},
   "outputs": [],
   "source": [
    "df1.rename(columns={'roll':'Id', 'statistics':\"Stats\"},inplace=True)\n",
    "# iss tarah permanent change hojayega name matlab memory mai change hojayega"
   ]
  },
  {
   "cell_type": "code",
   "execution_count": 84,
   "id": "5ab912e2-186e-4e40-a49e-b83adc242592",
   "metadata": {},
   "outputs": [
    {
     "data": {
      "text/html": [
       "<div>\n",
       "<style scoped>\n",
       "    .dataframe tbody tr th:only-of-type {\n",
       "        vertical-align: middle;\n",
       "    }\n",
       "\n",
       "    .dataframe tbody tr th {\n",
       "        vertical-align: top;\n",
       "    }\n",
       "\n",
       "    .dataframe thead th {\n",
       "        text-align: right;\n",
       "    }\n",
       "</style>\n",
       "<table border=\"1\" class=\"dataframe\">\n",
       "  <thead>\n",
       "    <tr style=\"text-align: right;\">\n",
       "      <th></th>\n",
       "      <th>name</th>\n",
       "      <th>Id</th>\n",
       "      <th>python</th>\n",
       "      <th>excel</th>\n",
       "      <th>power_bi</th>\n",
       "      <th>pandas</th>\n",
       "      <th>machine_learning</th>\n",
       "      <th>Stats</th>\n",
       "    </tr>\n",
       "  </thead>\n",
       "  <tbody>\n",
       "    <tr>\n",
       "      <th>0</th>\n",
       "      <td>Alpha</td>\n",
       "      <td>11</td>\n",
       "      <td>78</td>\n",
       "      <td>89</td>\n",
       "      <td>45</td>\n",
       "      <td>81</td>\n",
       "      <td>96</td>\n",
       "      <td>67</td>\n",
       "    </tr>\n",
       "    <tr>\n",
       "      <th>1</th>\n",
       "      <td>Bravo</td>\n",
       "      <td>22</td>\n",
       "      <td>67</td>\n",
       "      <td>87</td>\n",
       "      <td>67</td>\n",
       "      <td>85</td>\n",
       "      <td>95</td>\n",
       "      <td>48</td>\n",
       "    </tr>\n",
       "    <tr>\n",
       "      <th>2</th>\n",
       "      <td>Charlie</td>\n",
       "      <td>33</td>\n",
       "      <td>89</td>\n",
       "      <td>67</td>\n",
       "      <td>89</td>\n",
       "      <td>89</td>\n",
       "      <td>84</td>\n",
       "      <td>45</td>\n",
       "    </tr>\n",
       "    <tr>\n",
       "      <th>3</th>\n",
       "      <td>Delta</td>\n",
       "      <td>44</td>\n",
       "      <td>59</td>\n",
       "      <td>74</td>\n",
       "      <td>87</td>\n",
       "      <td>87</td>\n",
       "      <td>85</td>\n",
       "      <td>98</td>\n",
       "    </tr>\n",
       "    <tr>\n",
       "      <th>4</th>\n",
       "      <td>Echo</td>\n",
       "      <td>55</td>\n",
       "      <td>90</td>\n",
       "      <td>78</td>\n",
       "      <td>67</td>\n",
       "      <td>41</td>\n",
       "      <td>82</td>\n",
       "      <td>75</td>\n",
       "    </tr>\n",
       "    <tr>\n",
       "      <th>5</th>\n",
       "      <td>Foxtrot</td>\n",
       "      <td>66</td>\n",
       "      <td>72</td>\n",
       "      <td>90</td>\n",
       "      <td>90</td>\n",
       "      <td>45</td>\n",
       "      <td>81</td>\n",
       "      <td>71</td>\n",
       "    </tr>\n",
       "    <tr>\n",
       "      <th>6</th>\n",
       "      <td>Golf</td>\n",
       "      <td>77</td>\n",
       "      <td>76</td>\n",
       "      <td>76</td>\n",
       "      <td>65</td>\n",
       "      <td>96</td>\n",
       "      <td>74</td>\n",
       "      <td>70</td>\n",
       "    </tr>\n",
       "    <tr>\n",
       "      <th>7</th>\n",
       "      <td>Hotel</td>\n",
       "      <td>88</td>\n",
       "      <td>89</td>\n",
       "      <td>78</td>\n",
       "      <td>67</td>\n",
       "      <td>56</td>\n",
       "      <td>75</td>\n",
       "      <td>60</td>\n",
       "    </tr>\n",
       "    <tr>\n",
       "      <th>8</th>\n",
       "      <td>India</td>\n",
       "      <td>99</td>\n",
       "      <td>67</td>\n",
       "      <td>90</td>\n",
       "      <td>56</td>\n",
       "      <td>93</td>\n",
       "      <td>96</td>\n",
       "      <td>90</td>\n",
       "    </tr>\n",
       "    <tr>\n",
       "      <th>9</th>\n",
       "      <td>Juliet</td>\n",
       "      <td>111</td>\n",
       "      <td>85</td>\n",
       "      <td>54</td>\n",
       "      <td>90</td>\n",
       "      <td>78</td>\n",
       "      <td>90</td>\n",
       "      <td>93</td>\n",
       "    </tr>\n",
       "  </tbody>\n",
       "</table>\n",
       "</div>"
      ],
      "text/plain": [
       "      name   Id  python  excel  power_bi  pandas  machine_learning  Stats\n",
       "0    Alpha   11      78     89        45      81                96     67\n",
       "1    Bravo   22      67     87        67      85                95     48\n",
       "2  Charlie   33      89     67        89      89                84     45\n",
       "3    Delta   44      59     74        87      87                85     98\n",
       "4     Echo   55      90     78        67      41                82     75\n",
       "5  Foxtrot   66      72     90        90      45                81     71\n",
       "6     Golf   77      76     76        65      96                74     70\n",
       "7    Hotel   88      89     78        67      56                75     60\n",
       "8    India   99      67     90        56      93                96     90\n",
       "9   Juliet  111      85     54        90      78                90     93"
      ]
     },
     "execution_count": 84,
     "metadata": {},
     "output_type": "execute_result"
    }
   ],
   "source": [
    "df1\n",
    "#check karlo hogayi change"
   ]
  },
  {
   "cell_type": "code",
   "execution_count": 85,
   "id": "5a84f94b-4821-402f-b95a-506a4baa82c8",
   "metadata": {},
   "outputs": [
    {
     "name": "stdout",
     "output_type": "stream",
     "text": [
      "Ages of individuals:\n",
      "0    25\n",
      "1    30\n",
      "2    35\n",
      "Name: Age, dtype: int64\n"
     ]
    }
   ],
   "source": [
    "# Selecting a specific column\n",
    "ages = df['Age']\n",
    "print(\"Ages of individuals:\")\n",
    "print(ages)\n"
   ]
  },
  {
   "cell_type": "code",
   "execution_count": 86,
   "id": "472f631f-8c63-436f-9ad5-432fa31fad6b",
   "metadata": {},
   "outputs": [
    {
     "name": "stdout",
     "output_type": "stream",
     "text": [
      "Individuals with Age greater than 30:\n",
      "      Name  Age         City\n",
      "2  Charlie   35  Los Angeles\n"
     ]
    }
   ],
   "source": [
    "# Selecting rows where Age is greater than 30\n",
    "older_people = df[df['Age'] > 30]\n",
    "print(\"Individuals with Age greater than 30:\")\n",
    "print(older_people)\n"
   ]
  },
  {
   "cell_type": "code",
   "execution_count": 87,
   "id": "bb2e650a-f367-4261-9a22-775522006e51",
   "metadata": {},
   "outputs": [
    {
     "name": "stdout",
     "output_type": "stream",
     "text": [
      "DataFrame with Salary column added:\n",
      "      Name  Age           City  Salary\n",
      "0    Alice   25       New York   50000\n",
      "1      Bob   30  San Francisco   60000\n",
      "2  Charlie   35    Los Angeles   70000\n"
     ]
    }
   ],
   "source": [
    "# Adding a new column\n",
    "df['Salary'] = [50000, 60000, 70000]\n",
    "print(\"DataFrame with Salary column added:\")\n",
    "print(df)\n"
   ]
  },
  {
   "cell_type": "code",
   "execution_count": 88,
   "id": "d6c13b24-67ae-47ca-9f79-faa2c0cffaa0",
   "metadata": {},
   "outputs": [
    {
     "name": "stdout",
     "output_type": "stream",
     "text": [
      "Updated Ages:\n",
      "      Name  Age           City  Salary\n",
      "0    Alice   26       New York   50000\n",
      "1      Bob   31  San Francisco   60000\n",
      "2  Charlie   36    Los Angeles   70000\n"
     ]
    }
   ],
   "source": [
    "# Modifying the values of the 'Age' column\n",
    "df['Age'] = df['Age'] + 1\n",
    "print(\"Updated Ages:\")\n",
    "print(df)\n"
   ]
  },
  {
   "cell_type": "code",
   "execution_count": 89,
   "id": "42cb4295-8169-4884-ad8c-e93cb24e9d0b",
   "metadata": {},
   "outputs": [
    {
     "name": "stdout",
     "output_type": "stream",
     "text": [
      "DataFrame after removing Salary column:\n",
      "      Name  Age           City\n",
      "0    Alice   26       New York\n",
      "1      Bob   31  San Francisco\n",
      "2  Charlie   36    Los Angeles\n"
     ]
    }
   ],
   "source": [
    "# # Removing a column\n",
    "\n",
    "# The axis parameter specifies whether you want to remove rows or columns.\n",
    "    # axis=0 refers to rows.\n",
    "    # axis=1 refers to columns.\n",
    "# Without specifying axis=1, Pandas would assume you're trying to drop a row (since axis=0 is the default for many operations\n",
    "df = df.drop('Salary', axis=1)\n",
    "print(\"DataFrame after removing Salary column:\")\n",
    "print(df)\n"
   ]
  },
  {
   "cell_type": "code",
   "execution_count": 90,
   "id": "1057476c-d1de-43d1-b74f-9eb9fdc8cf7c",
   "metadata": {},
   "outputs": [
    {
     "name": "stdout",
     "output_type": "stream",
     "text": [
      "      Name  Age         City\n",
      "0    Alice   26     New York\n",
      "2  Charlie   36  Los Angeles\n"
     ]
    }
   ],
   "source": [
    "# Dropping a row (row index 1)\n",
    "df = df.drop(1, axis=0)\n",
    "\n",
    "print(df)\n"
   ]
  },
  {
   "cell_type": "code",
   "execution_count": null,
   "id": "bccfdcdf-23f1-4b84-bcb7-4d99eb560ed1",
   "metadata": {},
   "outputs": [],
   "source": []
  },
  {
   "cell_type": "code",
   "execution_count": null,
   "id": "545057ba-b71a-4b8a-b216-54c89de50dd8",
   "metadata": {},
   "outputs": [],
   "source": []
  }
 ],
 "metadata": {
  "kernelspec": {
   "display_name": "Python 3 (ipykernel)",
   "language": "python",
   "name": "python3"
  },
  "language_info": {
   "codemirror_mode": {
    "name": "ipython",
    "version": 3
   },
   "file_extension": ".py",
   "mimetype": "text/x-python",
   "name": "python",
   "nbconvert_exporter": "python",
   "pygments_lexer": "ipython3",
   "version": "3.12.4"
  }
 },
 "nbformat": 4,
 "nbformat_minor": 5
}
