{
 "cells": [
  {
   "cell_type": "code",
   "execution_count": 4,
   "id": "68c90314-984c-4a76-bc95-4e13079c0190",
   "metadata": {},
   "outputs": [],
   "source": [
    "import numpy as np\n",
    "\n",
    "arr2d = np.arange(36).reshape(9,4)"
   ]
  },
  {
   "cell_type": "code",
   "execution_count": 5,
   "id": "8d6aebcd-7c54-4d77-8cd6-a970148e808e",
   "metadata": {},
   "outputs": [
    {
     "data": {
      "text/plain": [
       "array([[ 0,  1,  2,  3],\n",
       "       [ 4,  5,  6,  7],\n",
       "       [ 8,  9, 10, 11],\n",
       "       [12, 13, 14, 15],\n",
       "       [16, 17, 18, 19],\n",
       "       [20, 21, 22, 23],\n",
       "       [24, 25, 26, 27],\n",
       "       [28, 29, 30, 31],\n",
       "       [32, 33, 34, 35]])"
      ]
     },
     "execution_count": 5,
     "metadata": {},
     "output_type": "execute_result"
    }
   ],
   "source": [
    "arr2d\n"
   ]
  },
  {
   "cell_type": "code",
   "execution_count": 33,
   "id": "29fd8524-96f2-43ca-ba18-650df9cedb92",
   "metadata": {},
   "outputs": [
    {
     "data": {
      "text/plain": [
       "27"
      ]
     },
     "execution_count": 33,
     "metadata": {},
     "output_type": "execute_result"
    }
   ],
   "source": [
    "arr2d[6,3]"
   ]
  },
  {
   "cell_type": "code",
   "execution_count": 37,
   "id": "e83c1294-33f1-4a52-9e2f-ab99a4bb5860",
   "metadata": {},
   "outputs": [
    {
     "data": {
      "text/plain": [
       "array([[ 0,  2],\n",
       "       [ 4,  6],\n",
       "       [ 8, 10],\n",
       "       [12, 14],\n",
       "       [16, 18],\n",
       "       [20, 22],\n",
       "       [24, 26],\n",
       "       [28, 30],\n",
       "       [32, 34]])"
      ]
     },
     "execution_count": 37,
     "metadata": {},
     "output_type": "execute_result"
    }
   ],
   "source": [
    "arr2d[:,::2]"
   ]
  },
  {
   "cell_type": "code",
   "execution_count": 8,
   "id": "23528aad-9eb1-4715-a0da-080ae72c2278",
   "metadata": {},
   "outputs": [
    {
     "data": {
      "text/plain": [
       "array([[ 0,  3,  2,  1],\n",
       "       [ 4,  7,  6,  5],\n",
       "       [ 8, 11, 10,  9],\n",
       "       [12, 15, 14, 13],\n",
       "       [16, 19, 18, 17],\n",
       "       [20, 23, 22, 21],\n",
       "       [24, 27, 26, 25],\n",
       "       [28, 31, 30, 29],\n",
       "       [32, 35, 34, 33]])"
      ]
     },
     "execution_count": 8,
     "metadata": {},
     "output_type": "execute_result"
    }
   ],
   "source": [
    "arr2d[:,[0,3,2,1]]\n",
    "#fancy indexing"
   ]
  },
  {
   "cell_type": "code",
   "execution_count": 38,
   "id": "4c55ee2d-161d-4ec1-abfd-63052a492612",
   "metadata": {},
   "outputs": [
    {
     "data": {
      "text/plain": [
       "array([[[ 0,  1,  2,  3],\n",
       "        [ 4,  5,  6,  7],\n",
       "        [ 8,  9, 10, 11],\n",
       "        [12, 13, 14, 15]],\n",
       "\n",
       "       [[16, 17, 18, 19],\n",
       "        [20, 21, 22, 23],\n",
       "        [24, 25, 26, 27],\n",
       "        [28, 29, 30, 31]],\n",
       "\n",
       "       [[32, 33, 34, 35],\n",
       "        [36, 37, 38, 39],\n",
       "        [40, 41, 42, 43],\n",
       "        [44, 45, 46, 47]],\n",
       "\n",
       "       [[48, 49, 50, 51],\n",
       "        [52, 53, 54, 55],\n",
       "        [56, 57, 58, 59],\n",
       "        [60, 61, 62, 63]]])"
      ]
     },
     "execution_count": 38,
     "metadata": {},
     "output_type": "execute_result"
    }
   ],
   "source": [
    "arr3d = np.arange(64).reshape(4,4,4)\n",
    "arr3d"
   ]
  },
  {
   "cell_type": "code",
   "execution_count": 47,
   "id": "82350807-f5f6-4f04-98a5-6d4b99399056",
   "metadata": {},
   "outputs": [
    {
     "data": {
      "text/plain": [
       "33"
      ]
     },
     "execution_count": 47,
     "metadata": {},
     "output_type": "execute_result"
    }
   ],
   "source": [
    "arr3d[2,0,1]\n",
    "#jo uper command likha hai aur jo neeche command likha hai woh dono same hain \n",
    "#arr3d[2][0][1]\n",
    "#ye wala index [2] item number ko batanay ke liye hai like 32-47 wala 4x4 matrix\n",
    "#ye wala index [0] row number batanay ke liye hai like 32-47 walay matrix ki 1st row jo 0th index pe hoti hai\n",
    "#ye wala index [1] column number batanay ke liye hai like 32-47 walay matrix ki 2nd column jo 1st index pe hoti hai "
   ]
  },
  {
   "cell_type": "code",
   "execution_count": 48,
   "id": "4fe5ae96-9873-4c38-b30f-64644d45c763",
   "metadata": {},
   "outputs": [
    {
     "ename": "SyntaxError",
     "evalue": "invalid decimal literal (4281016075.py, line 1)",
     "output_type": "error",
     "traceback": [
      "\u001b[1;36m  Cell \u001b[1;32mIn[48], line 1\u001b[1;36m\u001b[0m\n\u001b[1;33m    https://www.youtube.com/watch?v=PbKOrSottRQ&t=156s&pp=ygUfc2xpY2luZyBpbiBweXRob24gMmQgbnVteSBhcnJheQ%3D%3D\u001b[0m\n\u001b[1;37m                                                    ^\u001b[0m\n\u001b[1;31mSyntaxError\u001b[0m\u001b[1;31m:\u001b[0m invalid decimal literal\n"
     ]
    }
   ],
   "source": [
    "https://www.youtube.com/watch?v=PbKOrSottRQ1&t=56s&pp=ygUfc2xpY2luZyBpbiBweXRob24gMmQgbnVteSBhcnJheQ%3D%3D"
   ]
  },
  {
   "cell_type": "code",
   "execution_count": 50,
   "id": "f6939c7a-d050-4fdf-b173-905c60c9e906",
   "metadata": {},
   "outputs": [
    {
     "data": {
      "text/plain": [
       "array([[[53, 54],\n",
       "        [57, 58]]])"
      ]
     },
     "execution_count": 50,
     "metadata": {},
     "output_type": "execute_result"
    }
   ],
   "source": [
    "arr3d[3:4,1:3,1:3]"
   ]
  },
  {
   "cell_type": "code",
   "execution_count": 51,
   "id": "8049c4f7-4ad3-4901-96e0-9105c26bfc1f",
   "metadata": {},
   "outputs": [
    {
     "data": {
      "text/plain": [
       "array([[[21, 22],\n",
       "        [25, 26]],\n",
       "\n",
       "       [[37, 38],\n",
       "        [41, 42]]])"
      ]
     },
     "execution_count": 51,
     "metadata": {},
     "output_type": "execute_result"
    }
   ],
   "source": [
    "arr3d[1:3,1:3,1:3]"
   ]
  },
  {
   "cell_type": "code",
   "execution_count": 57,
   "id": "f2bf69df-9333-4184-9ec5-6c39fb4847a8",
   "metadata": {},
   "outputs": [],
   "source": [
    "a=np.arange(1,10,+2)"
   ]
  },
  {
   "cell_type": "code",
   "execution_count": 58,
   "id": "ff487d02-c8f3-4d5a-80ee-fd50d0cbaccb",
   "metadata": {},
   "outputs": [
    {
     "name": "stdout",
     "output_type": "stream",
     "text": [
      "[1 3 5 7 9]\n"
     ]
    }
   ],
   "source": [
    "print(a)\n"
   ]
  },
  {
   "cell_type": "code",
   "execution_count": null,
   "id": "d34834fe-cf4b-417a-b07d-5f36f4a4b138",
   "metadata": {},
   "outputs": [],
   "source": [
    "You're right! Let's clarify the extraction for arr3d[1:3, 1:3, 1:3] using the correct details.\n",
    "\n",
    "First dimension 1:3: This selects the 2nd and 3rd slices (indices 1 and 2).\n",
    "\n",
    "Second dimension 1:3: This selects rows 1 and 2 from those slices.\n",
    "\n",
    "Third dimension 1:3: This selects columns 1 and 2 from those rows.\n",
    "\n",
    "So, breaking it down step by step:\n",
    "\n",
    "For Slice arr3d[1] (2nd Slice):\n",
    "lua\n",
    "Copy code\n",
    "[[16 17 18 19]\n",
    " [20 21 22 23]\n",
    " [24 25 26 27]\n",
    " [28 29 30 31]]\n",
    "Selecting rows 1 and 2 gives:\n",
    "lua\n",
    "Copy code\n",
    "[[20 21 22 23]\n",
    " [24 25 26 27]]\n",
    "Selecting columns 1 and 2 from those rows gives:\n",
    "lua\n",
    "Copy code\n",
    "[[21 22]\n",
    " [25 26]]\n",
    "For Slice arr3d[2] (3rd Slice):\n",
    "lua\n",
    "Copy code\n",
    "[[32 33 34 35]\n",
    " [36 37 38 39]\n",
    " [40 41 42 43]\n",
    " [44 45 46 47]]\n",
    "Selecting rows 1 and 2 gives:\n",
    "lua\n",
    "Copy code\n",
    "[[36 37 38 39]\n",
    " [40 41 42 43]]\n",
    "Selecting columns 1 and 2 from those rows gives:\n",
    "lua\n",
    "Copy code\n",
    "[[37 38]\n",
    " [41 42]]\n",
    "Final Result\n",
    "Combining these results, the output for arr3d[1:3, 1:3, 1:3] will be:\n",
    "\n",
    "lua\n",
    "Copy code\n",
    "[[[21 22]\n",
    "  [25 26]]\n",
    "\n",
    " [[37 38]\n",
    "  [41 42]]]"
   ]
  }
 ],
 "metadata": {
  "kernelspec": {
   "display_name": "Python 3 (ipykernel)",
   "language": "python",
   "name": "python3"
  },
  "language_info": {
   "codemirror_mode": {
    "name": "ipython",
    "version": 3
   },
   "file_extension": ".py",
   "mimetype": "text/x-python",
   "name": "python",
   "nbconvert_exporter": "python",
   "pygments_lexer": "ipython3",
   "version": "3.12.4"
  }
 },
 "nbformat": 4,
 "nbformat_minor": 5
}
