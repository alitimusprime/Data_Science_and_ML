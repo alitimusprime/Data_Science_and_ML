{
 "cells": [
  {
   "cell_type": "code",
   "execution_count": 1,
   "id": "ea6a55b9-f690-45db-9932-968aa0acad0d",
   "metadata": {},
   "outputs": [
    {
     "name": "stdout",
     "output_type": "stream",
     "text": [
      "DatasetDict({\n",
      "    train: Dataset({\n",
      "        features: ['article', 'highlights', 'id'],\n",
      "        num_rows: 287113\n",
      "    })\n",
      "    validation: Dataset({\n",
      "        features: ['article', 'highlights', 'id'],\n",
      "        num_rows: 13368\n",
      "    })\n",
      "    test: Dataset({\n",
      "        features: ['article', 'highlights', 'id'],\n",
      "        num_rows: 11490\n",
      "    })\n",
      "})\n",
      "DatasetDict({\n",
      "    train: Dataset({\n",
      "        features: ['document', 'summary', 'id'],\n",
      "        num_rows: 204045\n",
      "    })\n",
      "    validation: Dataset({\n",
      "        features: ['document', 'summary', 'id'],\n",
      "        num_rows: 11332\n",
      "    })\n",
      "    test: Dataset({\n",
      "        features: ['document', 'summary', 'id'],\n",
      "        num_rows: 11334\n",
      "    })\n",
      "})\n"
     ]
    }
   ],
   "source": [
    "from datasets import load_dataset\n",
    "dataset1 = load_dataset('cnn_dailymail', '3.0.0')\n",
    "dataset2 = load_dataset('xsum', trust_remote_code=True)\n",
    "print(dataset1)\n",
    "print(dataset2)\n"
   ]
  },
  {
   "cell_type": "code",
   "execution_count": 2,
   "id": "bf37eddd-55d0-4aa0-9526-393965447915",
   "metadata": {},
   "outputs": [
    {
     "name": "stdout",
     "output_type": "stream",
     "text": [
      "dict_keys(['train', 'validation', 'test'])\n",
      "dict_keys(['train', 'validation', 'test'])\n",
      "{'article': 'LONDON, England (Reuters) -- Harry Potter star Daniel Radcliffe gains access to a reported £20 million ($41.1 million) fortune as he turns 18 on Monday, but he insists the money won\\'t cast a spell on him. Daniel Radcliffe as Harry Potter in \"Harry Potter and the Order of the Phoenix\" To the disappointment of gossip columnists around the world, the young actor says he has no plans to fritter his cash away on fast cars, drink and celebrity parties. \"I don\\'t plan to be one of those people who, as soon as they turn 18, suddenly buy themselves a massive sports car collection or something similar,\" he told an Australian interviewer earlier this month. \"I don\\'t think I\\'ll be particularly extravagant. \"The things I like buying are things that cost about 10 pounds -- books and CDs and DVDs.\" At 18, Radcliffe will be able to gamble in a casino, buy a drink in a pub or see the horror film \"Hostel: Part II,\" currently six places below his number one movie on the UK box office chart. Details of how he\\'ll mark his landmark birthday are under wraps. His agent and publicist had no comment on his plans. \"I\\'ll definitely have some sort of party,\" he said in an interview. \"Hopefully none of you will be reading about it.\" Radcliffe\\'s earnings from the first five Potter films have been held in a trust fund which he has not been able to touch. Despite his growing fame and riches, the actor says he is keeping his feet firmly on the ground. \"People are always looking to say \\'kid star goes off the rails,\\'\" he told reporters last month. \"But I try very hard not to go that way because it would be too easy for them.\" His latest outing as the boy wizard in \"Harry Potter and the Order of the Phoenix\" is breaking records on both sides of the Atlantic and he will reprise the role in the last two films.  Watch I-Reporter give her review of Potter\\'s latest » . There is life beyond Potter, however. The Londoner has filmed a TV movie called \"My Boy Jack,\" about author Rudyard Kipling and his son, due for release later this year. He will also appear in \"December Boys,\" an Australian film about four boys who escape an orphanage. Earlier this year, he made his stage debut playing a tortured teenager in Peter Shaffer\\'s \"Equus.\" Meanwhile, he is braced for even closer media scrutiny now that he\\'s legally an adult: \"I just think I\\'m going to be more sort of fair game,\" he told Reuters. E-mail to a friend . Copyright 2007 Reuters. All rights reserved.This material may not be published, broadcast, rewritten, or redistributed.', 'highlights': \"Harry Potter star Daniel Radcliffe gets £20M fortune as he turns 18 Monday .\\nYoung actor says he has no plans to fritter his cash away .\\nRadcliffe's earnings from first five Potter films have been held in trust fund .\", 'id': '42c027e4ff9730fbb3de84c1af0d2c506e41c3e4'}\n",
      "{'document': 'The full cost of damage in Newton Stewart, one of the areas worst affected, is still being assessed.\\nRepair work is ongoing in Hawick and many roads in Peeblesshire remain badly affected by standing water.\\nTrains on the west coast mainline face disruption due to damage at the Lamington Viaduct.\\nMany businesses and householders were affected by flooding in Newton Stewart after the River Cree overflowed into the town.\\nFirst Minister Nicola Sturgeon visited the area to inspect the damage.\\nThe waters breached a retaining wall, flooding many commercial properties on Victoria Street - the main shopping thoroughfare.\\nJeanette Tate, who owns the Cinnamon Cafe which was badly affected, said she could not fault the multi-agency response once the flood hit.\\nHowever, she said more preventative work could have been carried out to ensure the retaining wall did not fail.\\n\"It is difficult but I do think there is so much publicity for Dumfries and the Nith - and I totally appreciate that - but it is almost like we\\'re neglected or forgotten,\" she said.\\n\"That may not be true but it is perhaps my perspective over the last few days.\\n\"Why were you not ready to help us a bit more when the warning and the alarm alerts had gone out?\"\\nMeanwhile, a flood alert remains in place across the Borders because of the constant rain.\\nPeebles was badly hit by problems, sparking calls to introduce more defences in the area.\\nScottish Borders Council has put a list on its website of the roads worst affected and drivers have been urged not to ignore closure signs.\\nThe Labour Party\\'s deputy Scottish leader Alex Rowley was in Hawick on Monday to see the situation first hand.\\nHe said it was important to get the flood protection plan right but backed calls to speed up the process.\\n\"I was quite taken aback by the amount of damage that has been done,\" he said.\\n\"Obviously it is heart-breaking for people who have been forced out of their homes and the impact on businesses.\"\\nHe said it was important that \"immediate steps\" were taken to protect the areas most vulnerable and a clear timetable put in place for flood prevention plans.\\nHave you been affected by flooding in Dumfries and Galloway or the Borders? Tell us about your experience of the situation and how it was handled. Email us on selkirk.news@bbc.co.uk or dumfries@bbc.co.uk.', 'summary': 'Clean-up operations are continuing across the Scottish Borders and Dumfries and Galloway after flooding caused by Storm Frank.', 'id': '35232142'}\n"
     ]
    }
   ],
   "source": [
    "print(dataset1.keys())  # To see available splits (train, test, validation)\n",
    "print(dataset2.keys())\n",
    "\n",
    "print(dataset1[\"train\"][0])  # Print the first example from the CNN dataset\n",
    "print(dataset2[\"train\"][0])  # Print the first example from the XSum dataset\n"
   ]
  },
  {
   "cell_type": "code",
   "execution_count": 3,
   "id": "25f56201-4004-43d3-9bba-8c67335af895",
   "metadata": {},
   "outputs": [
    {
     "name": "stdout",
     "output_type": "stream",
     "text": [
      "                                             article  \\\n",
      "0  LONDON, England (Reuters) -- Harry Potter star...   \n",
      "1  Editor's note: In our Behind the Scenes series...   \n",
      "2  MINNEAPOLIS, Minnesota (CNN) -- Drivers who we...   \n",
      "3  WASHINGTON (CNN) -- Doctors removed five small...   \n",
      "4  (CNN)  -- The National Football League has ind...   \n",
      "\n",
      "                                          highlights  \n",
      "0  Harry Potter star Daniel Radcliffe gets £20M f...  \n",
      "1  Mentally ill inmates in Miami are housed on th...  \n",
      "2  NEW: \"I thought I was going to die,\" driver sa...  \n",
      "3  Five small polyps found during procedure; \"non...  \n",
      "4  NEW: NFL chief, Atlanta Falcons owner critical...  \n",
      "                                            document  \\\n",
      "0  The full cost of damage in Newton Stewart, one...   \n",
      "1  A fire alarm went off at the Holiday Inn in Ho...   \n",
      "2  Ferrari appeared in a position to challenge un...   \n",
      "3  John Edward Bates, formerly of Spalding, Linco...   \n",
      "4  Patients and staff were evacuated from Cerahpa...   \n",
      "\n",
      "                                             summary  \n",
      "0  Clean-up operations are continuing across the ...  \n",
      "1  Two tourist buses have been destroyed by fire ...  \n",
      "2  Lewis Hamilton stormed to pole position at the...  \n",
      "3  A former Lincolnshire Police officer carried o...  \n",
      "4  An armed man who locked himself into a room at...  \n"
     ]
    }
   ],
   "source": [
    "import pandas as pd\n",
    "\n",
    "# Convert CNN dataset to a DataFrame\n",
    "df_cnn = pd.DataFrame(dataset1[\"train\"])\n",
    "df_cnn = df_cnn[['article', 'highlights']]  # Keeping only relevant columns\n",
    "\n",
    "# Convert XSum dataset to a DataFrame\n",
    "df_xsum = pd.DataFrame(dataset2[\"train\"])\n",
    "df_xsum = df_xsum[['document', 'summary']]  # Keeping only relevant columns\n",
    "\n",
    "# Display sample data\n",
    "print(df_cnn.head())\n",
    "print(df_xsum.head())\n"
   ]
  },
  {
   "cell_type": "code",
   "execution_count": 4,
   "id": "bf1cf43e-21af-4274-835c-c35260bc6d8d",
   "metadata": {},
   "outputs": [],
   "source": [
    "from transformers import AutoTokenizer\n",
    "\n",
    "tokenizer = AutoTokenizer.from_pretrained(\"facebook/bart-large-cnn\")\n"
   ]
  },
  {
   "cell_type": "code",
   "execution_count": 5,
   "id": "6d5aeada-5858-406e-a110-4c9fc14faf90",
   "metadata": {},
   "outputs": [],
   "source": [
    "def tokenize_function(examples):\n",
    "    return tokenizer(examples[\"article\"], padding=\"max_length\", truncation=True)\n",
    "\n",
    "tokenized_cnn_dataset = dataset1.map(tokenize_function, batched=True)\n"
   ]
  },
  {
   "cell_type": "code",
   "execution_count": 6,
   "id": "e2d65790-90aa-4622-a8a0-58f6ab5fad2c",
   "metadata": {},
   "outputs": [],
   "source": [
    "from datasets import load_from_disk\n",
    "\n",
    "tokenized_cnn_dataset = load_from_disk(\"tokenized_cnn_dataset\")  # Load it back\n"
   ]
  },
  {
   "cell_type": "code",
   "execution_count": 7,
   "id": "55bff08f-f0ca-4cac-b76b-86a5eee307f5",
   "metadata": {},
   "outputs": [],
   "source": [
    "from torch.utils.data import DataLoader\n",
    "\n",
    "train_dataloader = DataLoader(tokenized_cnn_dataset[\"train\"], batch_size=8, shuffle=True)\n"
   ]
  },
  {
   "cell_type": "code",
   "execution_count": 8,
   "id": "2ff97c34-1e64-4123-9ab0-dcf4e100eaff",
   "metadata": {},
   "outputs": [],
   "source": [
    "from transformers import BartForConditionalGeneration\n",
    "\n",
    "model = BartForConditionalGeneration.from_pretrained(\"facebook/bart-large-cnn\")\n"
   ]
  },
  {
   "cell_type": "code",
   "execution_count": 9,
   "id": "711aec4a-ac74-41dc-8b8d-683165ea8abd",
   "metadata": {
    "scrolled": true
   },
   "outputs": [
    {
     "name": "stderr",
     "output_type": "stream",
     "text": [
      "C:\\Users\\muham\\AppData\\Local\\Programs\\Python\\Python312\\Lib\\site-packages\\transformers\\training_args.py:1575: FutureWarning: `evaluation_strategy` is deprecated and will be removed in version 4.46 of 🤗 Transformers. Use `eval_strategy` instead\n",
      "  warnings.warn(\n"
     ]
    }
   ],
   "source": [
    "from transformers import TrainingArguments\n",
    "\n",
    "training_args = TrainingArguments(\n",
    "    output_dir=\"./results\",         # Where to save model checkpoints\n",
    "    evaluation_strategy=\"epoch\",    # Evaluate at the end of each epoch\n",
    "    learning_rate=2e-5,             # Learning rate (adjustable if needed)\n",
    "    per_device_train_batch_size=8,  # Match batch size to DataLoader\n",
    "    per_device_eval_batch_size=8,\n",
    "    num_train_epochs=3,             # Number of times to pass through the dataset\n",
    "    weight_decay=0.01,              # Regularization to avoid overfitting\n",
    "    save_total_limit=2              # Keep only 2 checkpoints to save space\n",
    ")\n"
   ]
  },
  {
   "cell_type": "code",
   "execution_count": 10,
   "id": "b1dbdf29-fd62-4cbe-b2cf-15c3ebaf2481",
   "metadata": {},
   "outputs": [],
   "source": [
    "from transformers import AutoModelForSeq2SeqLM\n",
    "\n",
    "MY_MODEL = \"facebook/bart-large-cnn\"  # You can also use \"t5-small\" or another model\n",
    "MODEL_BART = AutoModelForSeq2SeqLM.from_pretrained(MY_MODEL)\n"
   ]
  },
  {
   "cell_type": "code",
   "execution_count": 11,
   "id": "6e549186-e590-4b87-8546-2ce9fb64db30",
   "metadata": {},
   "outputs": [
    {
     "data": {
      "application/vnd.jupyter.widget-view+json": {
       "model_id": "5eb7719b16e145759cdeaaa7bf216473",
       "version_major": 2,
       "version_minor": 0
      },
      "text/plain": [
       "Map:   0%|          | 0/13368 [00:02<?, ? examples/s]"
      ]
     },
     "metadata": {},
     "output_type": "display_data"
    }
   ],
   "source": [
    "from transformers import AutoTokenizer\n",
    "\n",
    "tokenizer = AutoTokenizer.from_pretrained(\"facebook/bart-large-cnn\")\n",
    "\n",
    "def preprocess_function(examples):\n",
    "    return tokenizer(examples[\"article\"], truncation=True, padding=\"max_length\", max_length=614)\n",
    "\n",
    "tokenized_cnn_dataset = dataset1.map(preprocess_function, batched=True)\n"
   ]
  },
  {
   "cell_type": "code",
   "execution_count": 12,
   "id": "03601d3e-9db9-45b9-9a3d-9712a265d8b4",
   "metadata": {},
   "outputs": [
    {
     "data": {
      "application/vnd.jupyter.widget-view+json": {
       "model_id": "278eb5d91c43456a9869836f09c17396",
       "version_major": 2,
       "version_minor": 0
      },
      "text/plain": [
       "Map:   0%|          | 0/13368 [00:00<?, ? examples/s]"
      ]
     },
     "metadata": {},
     "output_type": "display_data"
    }
   ],
   "source": [
    "def preprocess_function(examples):\n",
    "    model_inputs = tokenizer(\n",
    "        examples[\"article\"], \n",
    "        max_length=614,  # ✅ Ensure max length is applied\n",
    "        padding=\"max_length\",  # ✅ Ensures all inputs have the same length\n",
    "        truncation=True  # ✅ Forces truncation for longer texts\n",
    "    )\n",
    "    \n",
    "    labels = tokenizer(\n",
    "        examples[\"highlights\"], \n",
    "        max_length=150,  # ✅ Shorter max length for summaries\n",
    "        padding=\"max_length\", \n",
    "        truncation=True\n",
    "    )\n",
    "\n",
    "    model_inputs[\"labels\"] = labels[\"input_ids\"]  # ✅ Ensure labels are correctly stored\n",
    "\n",
    "    return model_inputs\n",
    "\n",
    "tokenized_cnn_dataset = dataset1.map(preprocess_function, batched=True)\n"
   ]
  },
  {
   "cell_type": "code",
   "execution_count": null,
   "id": "4f7993a4-862e-43ac-947b-d2e705aaa9ba",
   "metadata": {},
   "outputs": [],
   "source": [
    "for sample in tokenized_cnn_dataset[\"train\"]:\n",
    "    assert len(sample[\"input_ids\"]) == 614, f\"Found length {len(sample['input_ids'])}\"\n"
   ]
  },
  {
   "cell_type": "code",
   "execution_count": null,
   "id": "8fd806d9-51a8-4562-b9b4-ec4356d27402",
   "metadata": {},
   "outputs": [],
   "source": [
    "trainer.train()\n"
   ]
  },
  {
   "cell_type": "code",
   "execution_count": null,
   "id": "dd2e89be-1505-41e7-afa2-71394ef7895e",
   "metadata": {},
   "outputs": [],
   "source": []
  }
 ],
 "metadata": {
  "kernelspec": {
   "display_name": "Python 3 (ipykernel)",
   "language": "python",
   "name": "python3"
  },
  "language_info": {
   "codemirror_mode": {
    "name": "ipython",
    "version": 3
   },
   "file_extension": ".py",
   "mimetype": "text/x-python",
   "name": "python",
   "nbconvert_exporter": "python",
   "pygments_lexer": "ipython3",
   "version": "3.12.6"
  }
 },
 "nbformat": 4,
 "nbformat_minor": 5
}
